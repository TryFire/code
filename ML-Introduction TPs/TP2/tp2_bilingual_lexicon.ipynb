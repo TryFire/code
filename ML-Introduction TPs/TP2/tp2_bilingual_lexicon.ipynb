{
 "cells": [
  {
   "cell_type": "code",
   "execution_count": 40,
   "metadata": {},
   "outputs": [],
   "source": [
    "from io import StringIO\n",
    "\n",
    "#from lexicon_extraction import *\n",
    "\n",
    "\n",
    "def test_count_sentence_long():\n",
    "    # We can use a StringIO object to simulate reading from a file\n",
    "    # without actually creating a temporary file for the tests\n",
    "    input = StringIO(\"\"\"a b c\n",
    "d c a\n",
    "\"\"\")\n",
    "    assert count_sentences_with_word_long(input) == {'a': 2, 'c': 2, 'b': 1, 'd': 1}\n",
    "\n",
    "\n",
    "def test_count_sentence():\n",
    "\n",
    "    input = StringIO(\"\"\"a b c\n",
    "d c a\n",
    "\"\"\")\n",
    "    assert count_sentences_with_word(input) == {'a': 2, 'c': 2, 'b': 1, 'd': 1}\n",
    "\n",
    "\n",
    "def test_build_cooc_long():\n",
    "\n",
    "    src = StringIO(\"\"\" a b c a\n",
    "d c a\n",
    "\"\"\")\n",
    "    tgt = StringIO(\"\"\"A B C A\n",
    "D C A\n",
    "\"\"\")\n",
    "\n",
    "    res = build_cooc_table_long(src, tgt)\n",
    "    expected_res = {('c', 'C'): 2,\n",
    "                    ('c', 'A'): 2,\n",
    "                    ('a', 'C'): 2,\n",
    "                    ('a', 'A'): 2,\n",
    "                    ('c', 'B'): 1,\n",
    "                    ('b', 'B'): 1,\n",
    "                    ('b', 'C'): 1,\n",
    "                    ('b', 'A'): 1,\n",
    "                    ('a', 'B'): 1,\n",
    "                    ('c', 'D'): 1,\n",
    "                    ('a', 'D'): 1,\n",
    "                    ('d', 'A'): 1,\n",
    "                    ('d', 'D'): 1,\n",
    "                    ('d', 'C'): 1}\n",
    "\n",
    "    assert res == expected_res\n",
    "\n",
    "\n",
    "def test_build_cooc():\n",
    "\n",
    "    src = StringIO(\"\"\" a b c a\n",
    "d c a\n",
    "\"\"\")\n",
    "    tgt = StringIO(\"\"\"A B C A\n",
    "D C A\n",
    "\"\"\")\n",
    "\n",
    "    res = build_cooc_table(src, tgt)\n",
    "    expected_res = {('c', 'C'): 2,\n",
    "                    ('c', 'A'): 2,\n",
    "                    ('a', 'C'): 2,\n",
    "                    ('a', 'A'): 2,\n",
    "                    ('c', 'B'): 1,\n",
    "                    ('b', 'B'): 1,\n",
    "                    ('b', 'C'): 1,\n",
    "                    ('b', 'A'): 1,\n",
    "                    ('a', 'B'): 1,\n",
    "                    ('c', 'D'): 1,\n",
    "                    ('a', 'D'): 1,\n",
    "                    ('d', 'A'): 1,\n",
    "                    ('d', 'D'): 1,\n",
    "                    ('d', 'C'): 1}\n",
    "    \n",
    "    assert res == expected_res\n",
    "\n"
   ]
  },
  {
   "cell_type": "code",
   "execution_count": 56,
   "metadata": {},
   "outputs": [],
   "source": [
    "\n",
    "def validLine(l):\n",
    "    return l.strip()\n",
    "def count_sentences_with_word(f) :\n",
    "    index_line = 0\n",
    "    res = {}\n",
    "    for line in f:\n",
    "        if validLine(line) :\n",
    "            index_line += 1\n",
    "            for word in line.split() :\n",
    "                if word in res :\n",
    "                    res.get(word).add(index_line)\n",
    "                else :\n",
    "                    res[word]={index_line}\n",
    "    \n",
    "    return res"
   ]
  },
  {
   "cell_type": "code",
   "execution_count": 68,
   "metadata": {},
   "outputs": [],
   "source": [
    "english = 'english.corpus'\n",
    "french = 'french.corpus'\n",
    "def build_cooc_table(f1, f2):\n",
    "    r1 = count_sentences_with_word(f1)\n",
    "    r2 = count_sentences_with_word(f2)\n",
    "    res = {}\n",
    "    for k1,v1 in r1.items():\n",
    "        for k2,v2 in r2.items():\n",
    "            comm = len(v1&v2)\n",
    "            if(comm != 0):\n",
    "                res[(k1,k2)] = comm\n",
    "    return res\n",
    "\n",
    "def build_cooc_table_by_sentences(r1, r2):\n",
    "    res = {}\n",
    "    for k1,v1 in r1.items():\n",
    "        for k2,v2 in r2.items():\n",
    "            comm = len(v1&v2)\n",
    "            if(comm != 0):\n",
    "                res[(k1,k2)] = comm\n",
    "    return res\n",
    "# sort dict by the value \n",
    "def dump(d):\n",
    "    return dict(sorted(d.items(), key=lambda e:e[1], reverse=True))"
   ]
  },
  {
   "cell_type": "code",
   "execution_count": 43,
   "metadata": {},
   "outputs": [
    {
     "data": {
      "text/plain": [
       "{2, 3}"
      ]
     },
     "execution_count": 43,
     "metadata": {},
     "output_type": "execute_result"
    }
   ],
   "source": [
    "s = {1,2,3}\n",
    "ss = {2,3}\n",
    "s & ss"
   ]
  },
  {
   "cell_type": "code",
   "execution_count": 44,
   "metadata": {},
   "outputs": [],
   "source": [
    "test_build_cooc()"
   ]
  },
  {
   "cell_type": "code",
   "execution_count": 45,
   "metadata": {},
   "outputs": [],
   "source": [
    "# n（-a, -b) = N - n(a) - n(b) + n(a, b)\n",
    "# n (-a,  b) = n(b) - n(a ,b)\n",
    "# n (a,  -b) = n(a) - n(a ,b)"
   ]
  },
  {
   "cell_type": "code",
   "execution_count": 99,
   "metadata": {},
   "outputs": [],
   "source": [
    "import math\n",
    "def likelihood(n, na, nb, nab):\n",
    "    nnanb = n - na - nb + nab # nombre de non a et non b\n",
    "    nnab  = nb - nab          # nombre de non a et b\n",
    "    nanb  = na - nab          # nombre de a et non b\n",
    "    \n",
    "    pa = na/n                 # probabilite de a\n",
    "    pb = nb/n                 # probabilite de b\n",
    "    pab = nab/n               # probabilite de a et b\n",
    "    \n",
    "    pna = 1-pa\n",
    "    pnb = 1-pb\n",
    "    pnanb = nnanb/n\n",
    "    pnab = nnab/n\n",
    "    panb = nanb/n\n",
    "    \n",
    "    #print(\"pa : \", pa, \"  pb : \", pb, \"  pab : \", pab, \"  pna : \", pna, \"  pnb : \", pnb, \"  pnanb : \", pnanb, \"  pnab : \", pnab, \"  panb : \", panb)\n",
    "    \n",
    "    llab = pab*math.log(pab/(pa*pb))\n",
    "    llanb = panb*math.log(panb/(pa*pnb))\n",
    "    llnab = pnab*math.log(pnab/(pna*pb))\n",
    "    llnanb = pnanb*math.log(pnanb/(pna*pnb))\n",
    "    \n",
    "    gcare = 2*n*(llab+llanb+llnab+llnanb)\n",
    "    \n",
    "    return gcare\n"
   ]
  },
  {
   "cell_type": "code",
   "execution_count": 106,
   "metadata": {},
   "outputs": [
    {
     "name": "stdout",
     "output_type": "stream",
     "text": [
      "fin\n",
      "[(('et', 'and'), 1455.6536120221535), (('Barbicane', 'Barbicane'), 1144.136020751402), ((',', ','), 996.8393553059196), (('Lune', 'moon'), 753.9648776623804), (('?', '?'), 747.4566206460229), (('.', '.'), 737.2016866451971), (('Ardan', 'Ardan'), 698.8103804145431), (('projectile', 'projectile'), 607.5822080489218), (('de', 'of'), 603.9962630684352), (('Michel', 'Ardan'), 499.99106288902516), (('un', 'a'), 480.3433627179802), (('!', '!'), 475.5435673702657), (('Michel', 'Michel'), 449.1437745878284), (('est', 'is'), 430.6667821501907), (('pas', 'not'), 422.5511828120804), (('Nicholl', 'Nicholl'), 416.8528695906571), (('J.-T', 'T'), 413.8929720426891), (('J.-T', 'Maston'), 409.03129766803926), (('par', 'by'), 395.6295016354359), (('J.-T', 'J'), 392.7794323376008), (('je', 'I'), 392.0054711444843), (('la', 'the'), 391.19296712998323), (('Ardan', 'Michel'), 383.8519769227315), (('pieds', 'feet'), 383.5627356255816), (('vous', 'you'), 383.5238996819363), (('Maston', 'T'), 378.33652181562144), (('deux', 'two'), 361.5043180698666), (('mais', 'but'), 360.1679995960851), (('Maston', 'J'), 357.0547251601782), (('répondit', 'replied'), 321.9109365786547), ((',', 'and'), 321.55496109076256), (('avec', 'with'), 319.57869300609457), (('Terre', 'earth'), 316.66819565163667), (('de', 'the'), 310.8331460127546), (('et', ','), 310.4678461205674), (('ne', 'not'), 304.08708774532), (('ils', 'they'), 303.73604834585245), (('jour', 'day'), 290.8758268379575), (('mille', '000'), 290.7332229558558), (('major', 'major'), 287.48460278863064), (('qui', 'which'), 276.5580543249795), (('les', 'the'), 266.2202387616894), (('que', 'that'), 264.55324888929067), (('dit', 'said'), 263.1678589613035), (('après', 'after'), 260.6256491838882), (('Floride', 'Florida'), 259.1818923784148), (('poudre', 'powder'), 254.14559189710528), (('membres', 'members'), 253.21656284081408), (('trois', 'three'), 248.69707785781787), (('à', 'to'), 247.19177834301382), (('du', 'of'), 244.9132797388258), ((\"l'\", 'the'), 241.05310124129127), (('!', '\"'), 240.68840456886514), (('la', 'of'), 240.12462986822226), (('une', 'a'), 233.77605700857035), (('ces', 'these'), 233.75331061788097), (('dans', 'in'), 232.58441513711634), (('question', 'question'), 231.9783087087096), (('jours', 'days'), 229.20102397124913), (('le', 'the'), 228.9672484706384), (('A', 'At'), 223.26717735373816), (('nous', 'we'), 215.05938903018864), (('la', 'moon'), 213.52674887370313), ((',', 'the'), 212.4910878795939), (('leur', 'their'), 211.31319463964883), (('du', 'the'), 209.0493564279692), (('distance', 'distance'), 207.74366913966062), (('et', 'the'), 206.7044471361033), (('il', 'he'), 205.7860796205563), (('ou', 'or'), 205.24630742903148), (('Tampa-Town', 'Town'), 205.0148558090033), (('et', 'of'), 203.5258284406441), (('de', ','), 203.2181506745793), (('Tampa-Town', 'Tampa'), 201.86830881243677), ((\"l'\", 'of'), 201.3280751502295), (('fut', 'was'), 200.72271467912196), (('moment', 'moment'), 198.43196011222804), (('avait', 'had'), 197.43429093154145), (('son', 'his'), 194.11905538133865), (('entre', 'between'), 192.21842983822853), (('les', 'of'), 190.94795607039788), (('était', 'was'), 190.76778767164225), (('expérience', 'experiment'), 189.04597018707062), (('vitesse', 'velocity'), 189.04597018707062), (('notre', 'our'), 188.5675516542379), (('moins', 'less'), 188.16430494693086), (('sans', 'without'), 187.49200574949325), (('amis', 'friends'), 187.1992094993732), (('six', 'six'), 186.9889336398347), (('plus', 'more'), 186.09972592361305), (('qui', 'who'), 185.40442579011804), ((',', 'of'), 185.04213591266782), (('Cambridge', 'Cambridge'), 185.0326538506797), ((':', ':'), 182.24938888160736), (('Amérique', 'America'), 181.39629675572343), (('canon', 'cannon'), 181.0985752854172), (('des', 'of'), 179.5453345584533), (('boulet', 'shot'), 178.79168375955402), (('Mais', 'But'), 177.93807124142734), (('métal', 'metal'), 177.6231852533122)]\n"
     ]
    }
   ],
   "source": [
    "def len_file(filename):\n",
    "    return len([1 for line in open(filename, 'r', encoding='UTF-8') if validLine(line)])\n",
    "\n",
    "def computer_all(f1, f2, n):\n",
    "    r1 = count_sentences_with_word(f1)\n",
    "    r2 = count_sentences_with_word(f2)\n",
    "    dic = dump(build_cooc_table_by_sentences(r1, r2))\n",
    "    res = {}\n",
    "    for k,v in dic.items():\n",
    "        na = len(r1.get(k[0]))\n",
    "        nb = len(r2.get(k[1]))\n",
    "        nab = v\n",
    "        try:\n",
    "            like = likelihood(n, na, nb, nab)\n",
    "        except ValueError:\n",
    "            continue\n",
    "        else:\n",
    "            res[k] = like\n",
    "    return dump(res)\n",
    "n = len_file(french)\n",
    "f1 = open(french, 'r', encoding='UTF-8')\n",
    "f2 = open(english, 'r', encoding='UTF-8')\n",
    "res = computer_all(f1,f2,n)\n",
    "print('fin')\n",
    "print(list((res.items()))[:100])"
   ]
  },
  {
   "cell_type": "code",
   "execution_count": 107,
   "metadata": {},
   "outputs": [
    {
     "name": "stdout",
     "output_type": "stream",
     "text": [
      "[('a', 1), ('b', 2), ('c', 4), ('d', 3)]\n",
      "{'c': 4, 'd': 3, 'b': 2, 'a': 1}\n",
      "{'a': 1, 'b': 2, 'c': 4, 'd': 3}\n",
      "[('a', 1), ('b', 2), ('c', 4), ('d', 3)]\n"
     ]
    }
   ],
   "source": [
    "di = {\n",
    "    'b':2,\n",
    "    'a':1,\n",
    "    'c':4,\n",
    "    'd':3\n",
    "}\n",
    "# sort dict by the key, res : list de tuple\n",
    "print([(k,di[k]) for k in sorted(di.keys())])\n",
    "\n",
    "# sort dict by the key, res : dict\n",
    "print({k:di[k] for k in sorted(di.keys())})\n",
    "\n",
    "# sort dict by the value\n",
    "print (dict(sorted(di.items(), key=lambda d: d[1], reverse=True)))\n",
    "\n",
    "print(sorted(di.items()))"
   ]
  },
  {
   "cell_type": "code",
   "execution_count": null,
   "metadata": {},
   "outputs": [],
   "source": [
    "# conclusion : le plus grand de likelihood, le sens entre deux mots anglais et francais est le plus proche"
   ]
  }
 ],
 "metadata": {
  "kernelspec": {
   "display_name": "Python 3",
   "language": "python",
   "name": "python3"
  },
  "language_info": {
   "codemirror_mode": {
    "name": "ipython",
    "version": 3
   },
   "file_extension": ".py",
   "mimetype": "text/x-python",
   "name": "python",
   "nbconvert_exporter": "python",
   "pygments_lexer": "ipython3",
   "version": "3.6.4"
  }
 },
 "nbformat": 4,
 "nbformat_minor": 2
}
