{
 "cells": [
  {
   "cell_type": "code",
   "execution_count": 76,
   "metadata": {},
   "outputs": [],
   "source": [
    "from sklearn.tree import DecisionTreeClassifier\n",
    "import numpy as np\n",
    "import matplotlib.pyplot as plt"
   ]
  },
  {
   "cell_type": "code",
   "execution_count": 77,
   "metadata": {},
   "outputs": [
    {
     "name": "stdout",
     "output_type": "stream",
     "text": [
      "(1400, 3473)\n",
      "(1400,)\n"
     ]
    }
   ],
   "source": [
    "from data import *\n",
    "X, Y, dictionary = loadTextDataBinary('data/sentiment.tr') \n",
    "print(X.shape)\n",
    "print(Y.shape)"
   ]
  },
  {
   "cell_type": "code",
   "execution_count": 78,
   "metadata": {},
   "outputs": [
    {
     "name": "stdout",
     "output_type": "stream",
     "text": [
      "531\n",
      "534\n"
     ]
    }
   ],
   "source": [
    "Y\n",
    "for i in range(len(dictionary)):\n",
    "    if dictionary[i] == 'bad':\n",
    "        print(i)\n",
    "res = [i for i in range(1400) if X[i, 531] == 1]\n",
    "print(len(res))"
   ]
  },
  {
   "cell_type": "code",
   "execution_count": 79,
   "metadata": {},
   "outputs": [
    {
     "data": {
      "text/plain": [
       "DecisionTreeClassifier(class_weight=None, criterion='gini', max_depth=1,\n",
       "            max_features=None, max_leaf_nodes=None,\n",
       "            min_impurity_decrease=0.0, min_impurity_split=None,\n",
       "            min_samples_leaf=1, min_samples_split=2,\n",
       "            min_weight_fraction_leaf=0.0, presort=False, random_state=None,\n",
       "            splitter='best')"
      ]
     },
     "execution_count": 79,
     "metadata": {},
     "output_type": "execute_result"
    }
   ],
   "source": [
    "dt = DecisionTreeClassifier(max_depth=1)\n",
    "dt.fit(X, Y)"
   ]
  },
  {
   "cell_type": "code",
   "execution_count": 80,
   "metadata": {},
   "outputs": [
    {
     "name": "stdout",
     "output_type": "stream",
     "text": [
      "bad?\n",
      "-N-> class 1\t(333.0 for class 0, 533.0 for class 1)\n",
      "-Y-> class 0\t(358.0 for class 0, 176.0 for class 1)\n"
     ]
    }
   ],
   "source": [
    "showTree(dt,dictionary)"
   ]
  },
  {
   "cell_type": "code",
   "execution_count": 85,
   "metadata": {},
   "outputs": [
    {
     "data": {
      "text/plain": [
       "0.6364285714285715"
      ]
     },
     "execution_count": 85,
     "metadata": {},
     "output_type": "execute_result"
    }
   ],
   "source": [
    "np.mean(dt.predict(X) == Y)"
   ]
  },
  {
   "cell_type": "code",
   "execution_count": 88,
   "metadata": {},
   "outputs": [
    {
     "name": "stdout",
     "output_type": "stream",
     "text": [
      "(400, 3473)\n",
      "0.595\n",
      "0.605\n"
     ]
    }
   ],
   "source": [
    "Xtest, Ytest, _ = loadTextDataBinary('data/sentiment.te', dictionary)\n",
    "Xdev, Ydev, _ = loadTextDataBinary('data/sentiment.de', dictionary)\n",
    "print(Xtest.shape)\n",
    "print(np.mean(dt.predict(Xtest) == Ytest))\n",
    "print(np.mean(dt.predict(Xdev) == Ydev))"
   ]
  },
  {
   "cell_type": "code",
   "execution_count": 57,
   "metadata": {},
   "outputs": [
    {
     "name": "stdout",
     "output_type": "stream",
     "text": [
      "bad?\n",
      "-N-> worst?\n",
      "|    -N-> class 1\t(281.0 for class 0, 514.0 for class 1)\n",
      "|    -Y-> class 0\t(52.0 for class 0, 19.0 for class 1)\n",
      "-Y-> stupid?\n",
      "|    -N-> class 0\t(281.0 for class 0, 168.0 for class 1)\n",
      "|    -Y-> class 0\t(77.0 for class 0, 8.0 for class 1)\n"
     ]
    }
   ],
   "source": [
    "dt2 = DecisionTreeClassifier(max_depth=2)\n",
    "dt2.fit(X,Y)\n",
    "showTree(dt2,dictionary)"
   ]
  },
  {
   "cell_type": "code",
   "execution_count": 61,
   "metadata": {},
   "outputs": [
    {
     "name": "stdout",
     "output_type": "stream",
     "text": [
      "0.66\n",
      "(200, 564) (200,)\n"
     ]
    },
    {
     "data": {
      "text/plain": [
       "0.615"
      ]
     },
     "execution_count": 61,
     "metadata": {},
     "output_type": "execute_result"
    }
   ],
   "source": [
    "Xde, Yde, _ = loadTextDataBinary('data/sentiment.de')\n",
    "print(np.mean(dt2.predict(X) == Y))\n",
    "print(Xde.shape, Yde.shape)\n",
    "np.mean(dt2.predict(Xtest) == Ytest)"
   ]
  },
  {
   "cell_type": "code",
   "execution_count": 92,
   "metadata": {},
   "outputs": [
    {
     "name": "stdout",
     "output_type": "stream",
     "text": [
      "(200, 564)\n",
      "(400, 1117)\n",
      "[[0.36357143 0.34       0.32357143 0.30071429 0.27714286 0.24428571\n",
      "  0.22071429 0.185      0.16214286 0.14142857 0.11857143 0.10357143\n",
      "  0.08428571 0.07       0.05071429 0.04714286 0.035      0.02642857\n",
      "  0.01642857 0.01      ]\n",
      " [0.395      0.38       0.355      0.345      0.38       0.4\n",
      "  0.355      0.365      0.365      0.39       0.39       0.41\n",
      "  0.405      0.395      0.41       0.38       0.405      0.375\n",
      "  0.395      0.36      ]\n",
      " [0.405      0.385      0.375      0.3675     0.3575     0.3725\n",
      "  0.37       0.37       0.3825     0.385      0.385      0.385\n",
      "  0.3725     0.39       0.365      0.39       0.35       0.4\n",
      "  0.405      0.3975    ]]\n"
     ]
    }
   ],
   "source": [
    "errors = np.ones((3,20))\n",
    "Xtr, Ytr, dictionary = loadTextDataBinary('data/sentiment.tr')\n",
    "Xde, Yde, _ = loadTextDataBinary('data/sentiment.de')\n",
    "print(Xde.shape)\n",
    "Xte, Yte, _ = loadTextDataBinary('data/sentiment.te')\n",
    "print(Xte.shape)\n",
    "for i in range(20):\n",
    "    dt = DecisionTreeClassifier(max_depth=i+1)\n",
    "    dt.fit(Xtr, Ytr)\n",
    "    errors[0,i] = np.mean(dt.predict(X) != Y)\n",
    "    errors[1,i] = np.mean(dt.predict(Xdev) != Ydev)\n",
    "    errors[2,i] = np.mean(dt.predict(Xtest) != Ytest)\n",
    "      \n",
    "print(errors)"
   ]
  },
  {
   "cell_type": "code",
   "execution_count": 90,
   "metadata": {},
   "outputs": [
    {
     "data": {
      "text/plain": [
       "array([[1., 1., 1., 1., 1., 1., 1., 1., 1., 1., 1., 1., 1., 1., 1., 1.,\n",
       "        1., 1., 1., 1.],\n",
       "       [1., 1., 1., 1., 1., 1., 1., 1., 1., 1., 1., 1., 1., 1., 1., 1.,\n",
       "        1., 1., 1., 1.],\n",
       "       [1., 1., 1., 1., 1., 1., 1., 1., 1., 1., 1., 1., 1., 1., 1., 1.,\n",
       "        1., 1., 1., 1.]])"
      ]
     },
     "execution_count": 90,
     "metadata": {},
     "output_type": "execute_result"
    }
   ],
   "source": [
    "np.ones((3,20))"
   ]
  },
  {
   "cell_type": "code",
   "execution_count": 93,
   "metadata": {},
   "outputs": [
    {
     "data": {
      "image/png": "[encoded data removed]",
      "text/plain": [
       "<Figure size 432x288 with 1 Axes>"
      ]
     },
     "metadata": {
      "needs_background": "light"
     },
     "output_type": "display_data"
    }
   ],
   "source": [
    "x = [i for i in range(1,21)]\n",
    "legend = [\"training error\", 'development error', 'test error']\n",
    "plt.plot(x, errors[0])\n",
    "plt.plot(x, errors[1])\n",
    "plt.plot(x, errors[2])\n",
    "plt.xlabel(\"tree depth\")\n",
    "plt.ylabel(\"error de predict\")\n",
    "plt.title(\"error\")\n",
    "plt.legend(legend)\n",
    "plt.show()"
   ]
  },
  {
   "cell_type": "code",
   "execution_count": 13,
   "metadata": {},
   "outputs": [],
   "source": [
    "class Node(object):\n",
    "    # definition for Node\n",
    "    def __init__(self, data):\n",
    "        self.data = data\n",
    "        self.left = None\n",
    "        self.right = None\n",
    "def createNode(data):\n",
    "    return Node(data)\n",
    "\n",
    "def createTree(node, left, right):\n",
    "    node.left = left\n",
    "    node.right = right\n",
    "    return node\n",
    "    \n",
    "def isLeaf(node):\n",
    "    if not node.left:\n",
    "        return True\n",
    "    return False\n",
    "\n",
    "def showTree(node):\n",
    "    showTreein(node, 0)\n",
    "    \n",
    "def showTreein(node, level):\n",
    "    if not node:\n",
    "        return 0\n",
    "    tab = ''\n",
    "    for i in range(level):\n",
    "        tab = tab + '  '\n",
    "    print(tab, node.data)\n",
    "    if node.left:\n",
    "        showTreein(node.left, level+1)\n",
    "    if node.right:\n",
    "        showTreein(node.right, level+1)\n",
    "\n"
   ]
  },
  {
   "cell_type": "code",
   "execution_count": 14,
   "metadata": {},
   "outputs": [
    {
     "name": "stdout",
     "output_type": "stream",
     "text": [
      " 1\n",
      "   2\n",
      "   3\n"
     ]
    }
   ],
   "source": [
    " \n",
    "t = createTree(createNode(1), createNode(2), createNode(3))\n",
    "showTree(t)"
   ]
  },
  {
   "cell_type": "code",
   "execution_count": null,
   "metadata": {},
   "outputs": [],
   "source": [
    "def train(examples, labels):\n",
    "    get_featrure_best_seperate_data(examples)"
   ]
  }
 ],
 "metadata": {
  "kernelspec": {
   "display_name": "Python 3",
   "language": "python",
   "name": "python3"
  },
  "language_info": {
   "codemirror_mode": {
    "name": "ipython",
    "version": 3
   },
   "file_extension": ".py",
   "mimetype": "text/x-python",
   "name": "python",
   "nbconvert_exporter": "python",
   "pygments_lexer": "ipython3",
   "version": "3.6.4"
  }
 },
 "nbformat": 4,
 "nbformat_minor": 2
}
